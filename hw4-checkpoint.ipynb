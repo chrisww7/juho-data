{
 "cells": [
  {
   "cell_type": "code",
   "execution_count": 1,
   "id": "d217f5de-21b0-4a93-9569-150c0e78796f",
   "metadata": {},
   "outputs": [
    {
     "name": "stdout",
     "output_type": "stream",
     "text": [
      "당신의 조선시대 이름은 박쌍자 입니다.\n"
     ]
    }
   ],
   "source": [
    "month = ['쌍', '쇠', '복', '돌', '팽', '육', '쌍', '개', '칠', '갑', '삼', '방']\n",
    "day = ['봉', '구', '욕', '포', '똥', '삼', '식', '석', '놈', '님', '년', '돌', '단', '득', '방', '질', '장', '걸', '래', '룡', '동', '순', '자', '박', '창', '언', '것', '포', '만', '단', '국']\n",
    "\n",
    "def get_my_chosun_name(a, b, c):\n",
    "    print(\"당신의 조선시대 이름은 %s%s%s 입니다.\"%(a, month[b], day[c]))\n",
    "\n",
    "get_my_chosun_name('박',6 , 22)"
   ]
  },
  {
   "cell_type": "code",
   "execution_count": null,
   "id": "723c2c9e-71d2-422c-a63a-4227d6cd5b0c",
   "metadata": {},
   "outputs": [],
   "source": []
  }
 ],
 "metadata": {
  "kernelspec": {
   "display_name": "Python 3 (ipykernel)",
   "language": "python",
   "name": "python3"
  },
  "language_info": {
   "codemirror_mode": {
    "name": "ipython",
    "version": 3
   },
   "file_extension": ".py",
   "mimetype": "text/x-python",
   "name": "python",
   "nbconvert_exporter": "python",
   "pygments_lexer": "ipython3",
   "version": "3.9.12"
  }
 },
 "nbformat": 4,
 "nbformat_minor": 5
}
